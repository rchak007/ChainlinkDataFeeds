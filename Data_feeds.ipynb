{
 "cells": [
  {
   "cell_type": "markdown",
   "id": "1b202a06-7b2d-46c7-b8b7-0e82b6561383",
   "metadata": {},
   "source": [
    "## Connect Your Smart Contracts to the Outside World\n",
    "#### Chainlink Data Feeds are the quickest way to connect your smart contracts to the real-world market prices of assets. For example, one use for data feeds is to enable smart contracts to retrieve the latest pricing data of an asset in a single call."
   ]
  },
  {
   "cell_type": "code",
   "execution_count": 1,
   "id": "5f868c0e-c68b-4d6b-b018-ffd261a92ce2",
   "metadata": {},
   "outputs": [],
   "source": [
    "from web3 import Web3"
   ]
  },
  {
   "cell_type": "markdown",
   "id": "0897523e-a7c0-43bc-afb5-62d130921bd8",
   "metadata": {},
   "source": [
    "### Connect to Kovan through Infura"
   ]
  },
  {
   "cell_type": "code",
   "execution_count": 2,
   "id": "18507857-9637-454c-a43e-54ae29e24f9e",
   "metadata": {},
   "outputs": [],
   "source": [
    "web3 = Web3(Web3.HTTPProvider('https://kovan.infura.io/v3/34ed41c4cf28406885f032930d670036'))"
   ]
  },
  {
   "cell_type": "markdown",
   "id": "24437a58-18cb-44df-ba0a-1bc46463edc7",
   "metadata": {},
   "source": [
    "### Chainlink Aggregator ABI"
   ]
  },
  {
   "cell_type": "code",
   "execution_count": 3,
   "id": "63c8cb81-665c-4e76-9b53-56a089aaa698",
   "metadata": {},
   "outputs": [],
   "source": [
    "# AggregatorV3Interface ABI\n",
    "abi = '[{\"inputs\":[],\"name\":\"decimals\",\"outputs\":[{\"internalType\":\"uint8\",\"name\":\"\",\"type\":\"uint8\"}],\"stateMutability\":\"view\",\"type\":\"function\"},{\"inputs\":[],\"name\":\"description\",\"outputs\":[{\"internalType\":\"string\",\"name\":\"\",\"type\":\"string\"}],\"stateMutability\":\"view\",\"type\":\"function\"},{\"inputs\":[{\"internalType\":\"uint80\",\"name\":\"_roundId\",\"type\":\"uint80\"}],\"name\":\"getRoundData\",\"outputs\":[{\"internalType\":\"uint80\",\"name\":\"roundId\",\"type\":\"uint80\"},{\"internalType\":\"int256\",\"name\":\"answer\",\"type\":\"int256\"},{\"internalType\":\"uint256\",\"name\":\"startedAt\",\"type\":\"uint256\"},{\"internalType\":\"uint256\",\"name\":\"updatedAt\",\"type\":\"uint256\"},{\"internalType\":\"uint80\",\"name\":\"answeredInRound\",\"type\":\"uint80\"}],\"stateMutability\":\"view\",\"type\":\"function\"},{\"inputs\":[],\"name\":\"latestRoundData\",\"outputs\":[{\"internalType\":\"uint80\",\"name\":\"roundId\",\"type\":\"uint80\"},{\"internalType\":\"int256\",\"name\":\"answer\",\"type\":\"int256\"},{\"internalType\":\"uint256\",\"name\":\"startedAt\",\"type\":\"uint256\"},{\"internalType\":\"uint256\",\"name\":\"updatedAt\",\"type\":\"uint256\"},{\"internalType\":\"uint80\",\"name\":\"answeredInRound\",\"type\":\"uint80\"}],\"stateMutability\":\"view\",\"type\":\"function\"},{\"inputs\":[],\"name\":\"version\",\"outputs\":[{\"internalType\":\"uint256\",\"name\":\"\",\"type\":\"uint256\"}],\"stateMutability\":\"view\",\"type\":\"function\"}]'"
   ]
  },
  {
   "cell_type": "markdown",
   "id": "d81a10ac-59a9-412b-bc68-10ed97eee7a8",
   "metadata": {},
   "source": [
    "### Chainlink ETH/USD data feed aggregator address"
   ]
  },
  {
   "cell_type": "code",
   "execution_count": 4,
   "id": "036667d8-6a21-4b62-8c8d-dcc887545472",
   "metadata": {},
   "outputs": [],
   "source": [
    "# Price Feed address\n",
    "addr = '0x9326BFA02ADD2366b30bacB125260Af641031331'"
   ]
  },
  {
   "cell_type": "code",
   "execution_count": 5,
   "id": "1f177897-8d83-44cf-bcc7-d11589d9ecc4",
   "metadata": {},
   "outputs": [],
   "source": [
    "# Set up contract instance\n",
    "contract = web3.eth.contract(address=addr, abi=abi)"
   ]
  },
  {
   "cell_type": "code",
   "execution_count": 6,
   "id": "ce9227bd-14c4-41ad-aa16-188e1a8546cf",
   "metadata": {},
   "outputs": [],
   "source": [
    "# Make call to latestRoundData()\n",
    "latestData = contract.functions.latestRoundData().call()"
   ]
  },
  {
   "cell_type": "markdown",
   "id": "d419389d-8c8f-49eb-9830-9bd309442320",
   "metadata": {},
   "source": [
    "### LatestRoundData returns:\n",
    "            uint80 roundID, \n",
    "            int price,\n",
    "            uint startedAt,\n",
    "            uint timeStamp,\n",
    "            uint80 answeredInRound"
   ]
  },
  {
   "cell_type": "code",
   "execution_count": 7,
   "id": "abd46e5a-39e4-4ad3-b2c9-dc1c353a52dc",
   "metadata": {},
   "outputs": [
    {
     "name": "stdout",
     "output_type": "stream",
     "text": [
      "[36893488147419113053, 431639000000, 1637049604, 1637049612, 36893488147419113053]\n"
     ]
    }
   ],
   "source": [
    "print(latestData)"
   ]
  },
  {
   "cell_type": "code",
   "execution_count": 8,
   "id": "12562d31-5003-448e-9dd7-4248ef928d24",
   "metadata": {},
   "outputs": [],
   "source": [
    "eth_usd = latestData[1]"
   ]
  },
  {
   "cell_type": "markdown",
   "id": "77fed961-9ed3-42ef-aad3-df7321591a45",
   "metadata": {},
   "source": [
    "### ETH in USD"
   ]
  },
  {
   "cell_type": "code",
   "execution_count": 9,
   "id": "45d9cd90-2c34-42b9-b556-d82b216b3323",
   "metadata": {},
   "outputs": [
    {
     "data": {
      "text/plain": [
       "431639000000"
      ]
     },
     "execution_count": 9,
     "metadata": {},
     "output_type": "execute_result"
    }
   ],
   "source": [
    "eth_usd"
   ]
  },
  {
   "cell_type": "code",
   "execution_count": null,
   "id": "f7da7883-f24c-43cc-a5a4-0b338e50c85c",
   "metadata": {},
   "outputs": [],
   "source": []
  }
 ],
 "metadata": {
  "kernelspec": {
   "display_name": "blockchain",
   "language": "python",
   "name": "blockchain"
  },
  "language_info": {
   "codemirror_mode": {
    "name": "ipython",
    "version": 3
   },
   "file_extension": ".py",
   "mimetype": "text/x-python",
   "name": "python",
   "nbconvert_exporter": "python",
   "pygments_lexer": "ipython3",
   "version": "3.8.8"
  }
 },
 "nbformat": 4,
 "nbformat_minor": 5
}
