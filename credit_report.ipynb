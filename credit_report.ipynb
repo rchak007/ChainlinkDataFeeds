{
 "cells": [
  {
   "cell_type": "code",
   "execution_count": 19,
   "id": "47e7c087-eb85-4a2b-8a81-ce3da8681043",
   "metadata": {},
   "outputs": [],
   "source": [
    "import requests"
   ]
  },
  {
   "cell_type": "code",
   "execution_count": 20,
   "id": "82a4c81c-5e9b-4d66-b646-6e885bb50e93",
   "metadata": {},
   "outputs": [],
   "source": [
    "import json"
   ]
  },
  {
   "cell_type": "code",
   "execution_count": 21,
   "id": "42572054-4520-49bb-bc0f-e801d3636ff4",
   "metadata": {},
   "outputs": [],
   "source": [
    "URL = \"https://sandbox-api.consumer.equifax.com/saas\""
   ]
  },
  {
   "cell_type": "code",
   "execution_count": 22,
   "id": "721be7c8-4592-4d4f-ab38-fd267f4ce851",
   "metadata": {},
   "outputs": [],
   "source": [
    "APIKEY = {\"accessToken\":\"3b741511-8478-491d-ae69-17da2659cdf6\"}"
   ]
  },
  {
   "cell_type": "code",
   "execution_count": 23,
   "id": "a9184355-6dd1-464e-a203-8d92cc3a773d",
   "metadata": {},
   "outputs": [],
   "source": [
    "response = requests.get(URL, headers=APIKEY)"
   ]
  },
  {
   "cell_type": "code",
   "execution_count": 24,
   "id": "a570f151-6a05-40e8-8d46-23240f166724",
   "metadata": {},
   "outputs": [
    {
     "data": {
      "text/plain": [
       "<Response [200]>"
      ]
     },
     "execution_count": 24,
     "metadata": {},
     "output_type": "execute_result"
    }
   ],
   "source": [
    "response"
   ]
  },
  {
   "cell_type": "code",
   "execution_count": 25,
   "id": "a7b8c98b-321f-4df6-a2b2-4f56baa3e391",
   "metadata": {},
   "outputs": [
    {
     "data": {
      "text/plain": [
       "'<!DOCTYPE html>\\n<html lang=\"en\">\\n  <head>\\n    <title>Equifax Consumer Services API</title>\\n    <meta http-equiv=\"refresh\" content=\"0; url=docs/index.html\" />\\n  </head>\\n</html>'"
      ]
     },
     "execution_count": 25,
     "metadata": {},
     "output_type": "execute_result"
    }
   ],
   "source": [
    "response.text"
   ]
  },
  {
   "cell_type": "code",
   "execution_count": 30,
   "id": "d531315f-1e1b-4e07-ace0-453b21a11d9b",
   "metadata": {},
   "outputs": [],
   "source": [
    "resp2 = requests.post(\"https://sandbox-api.consumer.equifax.com/saas/oauth/token\", headers=APIKEY)"
   ]
  },
  {
   "cell_type": "code",
   "execution_count": 31,
   "id": "4af42c05-f86b-4aeb-ab82-04203c23dabe",
   "metadata": {},
   "outputs": [
    {
     "data": {
      "text/plain": [
       "<Response [401]>"
      ]
     },
     "execution_count": 31,
     "metadata": {},
     "output_type": "execute_result"
    }
   ],
   "source": [
    "resp2"
   ]
  },
  {
   "cell_type": "code",
   "execution_count": 15,
   "id": "cce18067-db43-4c3d-8b9c-2d03b4baf7e4",
   "metadata": {},
   "outputs": [
    {
     "data": {
      "text/plain": [
       "''"
      ]
     },
     "execution_count": 15,
     "metadata": {},
     "output_type": "execute_result"
    }
   ],
   "source": [
    "resp2.text"
   ]
  },
  {
   "cell_type": "code",
   "execution_count": 16,
   "id": "d789b872-ca21-40d0-a03e-51881f08739d",
   "metadata": {},
   "outputs": [],
   "source": [
    "resp3 = requests.get(\"https://gold-robot-305925.postman.co/workspace/Equifax-Sandbox~a40a3255-6072-4d41-a4ef-e4e4f43a8db3/request/15654287-1c667403-b71e-4f0c-803e-b91f6c0a7a40\", headers=APIKEY)"
   ]
  },
  {
   "cell_type": "code",
   "execution_count": 17,
   "id": "4226c449-09f4-4c3a-8507-94d624b2b004",
   "metadata": {},
   "outputs": [
    {
     "data": {
      "text/plain": [
       "'{\"error\":{\"name\":\"authenticationError\",\"message\":\"You are not authenticated by the server.\"}}'"
      ]
     },
     "execution_count": 17,
     "metadata": {},
     "output_type": "execute_result"
    }
   ],
   "source": [
    "resp3.text"
   ]
  },
  {
   "cell_type": "code",
   "execution_count": null,
   "id": "a80f4515-c277-484c-a928-25b00a702529",
   "metadata": {},
   "outputs": [],
   "source": []
  }
 ],
 "metadata": {
  "kernelspec": {
   "display_name": "smartcontracts",
   "language": "python",
   "name": "smartcontracts"
  },
  "language_info": {
   "codemirror_mode": {
    "name": "ipython",
    "version": 3
   },
   "file_extension": ".py",
   "mimetype": "text/x-python",
   "name": "python",
   "nbconvert_exporter": "python",
   "pygments_lexer": "ipython3",
   "version": "3.8.8"
  }
 },
 "nbformat": 4,
 "nbformat_minor": 5
}
